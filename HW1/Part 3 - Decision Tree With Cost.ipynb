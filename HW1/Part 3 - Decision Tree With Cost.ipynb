{
 "cells": [
  {
   "cell_type": "code",
   "execution_count": 17,
   "metadata": {},
   "outputs": [],
   "source": [
    "%matplotlib inline\n",
    "import numpy as np\n",
    "import pandas as pd\n",
    "from decision_tree import DecisionTree\n",
    "from graphviz import Digraph\n",
    "from dataset import Dataset\n",
    "import matplotlib.pyplot as plt\n",
    "import seaborn as sn"
   ]
  },
  {
   "cell_type": "code",
   "execution_count": 18,
   "metadata": {},
   "outputs": [
    {
     "name": "stdout",
     "output_type": "stream",
     "text": [
      "Dataset Loaded: There are 3772 training samples and 3428 test samples in the dataset\n"
     ]
    }
   ],
   "source": [
    "TRAIN_DATA_PATH = \"data/ann-train.data\"\n",
    "TEST_DATA_PATH = \"data/ann-test.data\"\n",
    "COST_DATA_PATH = \"data/ann-thyroid.cost\"\n",
    "\n",
    "dataset = Dataset(TRAIN_DATA_PATH, TEST_DATA_PATH, COST_DATA_PATH)\n",
    "train_sample_count = dataset.train_data.to_numpy().shape[0]\n",
    "test_sample_count = dataset.test_data.to_numpy().shape[0]\n",
    "print(\"Dataset Loaded: There are {} training samples and {} test samples in the dataset\".format(train_sample_count, test_sample_count))"
   ]
  },
  {
   "cell_type": "code",
   "execution_count": 19,
   "metadata": {},
   "outputs": [
    {
     "name": "stdout",
     "output_type": "stream",
     "text": [
      "Shape of training data: (3772, 22)\n",
      "Shape of test data: (3428, 22)\n"
     ]
    }
   ],
   "source": [
    "# Converting data samples to usable format \n",
    "train_data = dataset.train_data.to_numpy()\n",
    "test_data = dataset.test_data.to_numpy()\n",
    "print(\"Shape of training data: {}\".format(train_data.shape))\n",
    "print(\"Shape of test data: {}\".format(test_data.shape))"
   ]
  },
  {
   "cell_type": "code",
   "execution_count": 20,
   "metadata": {},
   "outputs": [],
   "source": [
    "def plot_matrix(confusion_matrix):\n",
    "    matrix_df = pd.DataFrame(confusion_matrix, index=[\"1\", \"2\", \"3\"], columns=[\"1\", \"2\", \"3\"])\n",
    "    matrix_df.index.name = \"True Label\"\n",
    "    matrix_df.columns.name = \"Predicted Label\"\n",
    "    plt.figure(figsize = (8,5))\n",
    "    sn.set(font_scale=1.4)\n",
    "    sn.heatmap(matrix_df,annot=True, fmt=\"d\", linewidths=.5, annot_kws={\"size\": 18}, cmap=\"Blues\")"
   ]
  },
  {
   "cell_type": "code",
   "execution_count": 21,
   "metadata": {},
   "outputs": [],
   "source": [
    "def evaluate_matrix(matrix):\n",
    "    assert matrix.shape[0] == matrix.shape[1]\n",
    "    no_of_classes = matrix.shape[0]\n",
    "    overall_acc = sum([matrix[i, i] for i in range(matrix.shape[0])]) / np.sum(matrix)\n",
    "    accuracies = []\n",
    "    for class_no in range(matrix.shape[0]):\n",
    "        if np.sum(matrix[class_no, :]) == 0:\n",
    "            acc = 0\n",
    "        else:\n",
    "            acc = matrix[class_no, class_no] / np.sum(matrix[class_no, :])\n",
    "        accuracies.append(acc)\n",
    "    return overall_acc, accuracies"
   ]
  },
  {
   "cell_type": "code",
   "execution_count": 22,
   "metadata": {},
   "outputs": [],
   "source": [
    "class TreePlot():\n",
    "    def __init__(self):\n",
    "        self.last_node = 0\n",
    "        self.graph = None\n",
    "\n",
    "def get_node_text(node):\n",
    "    node_text = \"\"\n",
    "    if node.left_child == None or node.right_child == None: # Leaf Node\n",
    "        node_text += \"Score: {}\\n\".format(node.score)\n",
    "        node_text += \"Samples: {}\\n\".format(np.sum(node.class_dist))\n",
    "        node_text += \"Class Dist: {}\\n\".format(node.class_dist)\n",
    "        node_text += \"Label: {}\".format(node.label)\n",
    "    else:\n",
    "        node_text += \"Split rule: {} <= {}\\n\".format(classifier.features[node.feature_idx], node.threshold)\n",
    "        node_text += \"Score: {}\\n\".format(node.score)\n",
    "        node_text += \"Samples: {}\\n\".format(np.sum(node.class_dist))\n",
    "        node_text += \"Class Dist: {}\\n\".format(node.class_dist)\n",
    "    return node_text\n",
    "        \n",
    "\n",
    "def plot_tree(classifier):\n",
    "    plot = TreePlot()\n",
    "    plot.graph = Digraph(name=\"part3\", format=\"png\", filename=\"part2.gv\")\n",
    "    classifier.root.score = round(classifier.root.score, 5)\n",
    "    classifier.root.threshold = round(classifier.root.threshold, 5)\n",
    "    node_text = get_node_text(classifier.root)\n",
    "    plot.last_node += 1\n",
    "    plot.graph.attr(\"node\", shape=\"box\")\n",
    "    plot.graph.node(\"node_\" + str(plot.last_node), label=node_text, style=\"filled\", fillcolor=\"green\", fontsize=\"8\")\n",
    "    node_no = plot.last_node\n",
    "    traverse_tree(plot, classifier.root.left_child, node_no)\n",
    "    traverse_tree(plot, classifier.root.right_child, node_no)\n",
    "    return plot.graph\n",
    "\n",
    "def traverse_tree(plot, node, parent_no):\n",
    "    if (node.left_child == None) or (node.right_child == None): # Leaf Node\n",
    "        if node.score == -0.0:\n",
    "            node.score = 0.0\n",
    "        else:\n",
    "            node.score = round(node.score, 5)\n",
    "        node_text = get_node_text(node)\n",
    "        plot.last_node += 1\n",
    "        plot.graph.attr(\"node\", shape=\"box\", fillcolor=\"blue\")\n",
    "        plot.graph.node(\"node_\" + str(plot.last_node), label=node_text, style=\"filled\", fillcolor=\"orange\",fontsize=\"8\")\n",
    "        plot.graph.edge(\"node_\" + str(parent_no), \"node_\" + str(plot.last_node))\n",
    "        return\n",
    "    node.threshold = round(node.threshold, 5)\n",
    "    node.score = round(node.score, 5)\n",
    "    node_text = get_node_text(node)\n",
    "    plot.last_node += 1\n",
    "    plot.graph.attr(\"node\", shape=\"box\")\n",
    "    plot.graph.node(\"node_\" + str(plot.last_node), label=node_text, style=\"filled\",fillcolor=\"green\", fontsize=\"8\")\n",
    "    plot.graph.edge(\"node_\" + str(parent_no), \"node_\" + str(plot.last_node))\n",
    "    node_no = plot.last_node\n",
    "    traverse_tree(plot, node.left_child, node_no)\n",
    "    traverse_tree(plot, node.right_child, node_no)"
   ]
  },
  {
   "cell_type": "markdown",
   "metadata": {},
   "source": [
    "### Cost Metrics\n",
    "In order to observe the feature costs, first the given cost values with the dataset are illustrated"
   ]
  },
  {
   "cell_type": "code",
   "execution_count": 41,
   "metadata": {},
   "outputs": [
    {
     "data": {
      "text/plain": [
       "{'age': 1.0,\n",
       " 'sex': 1.0,\n",
       " 'on_thyroxine': 1.0,\n",
       " 'query_on_thyroxine': 1.0,\n",
       " 'on_antithyroid_medication': 1.0,\n",
       " 'sick': 1.0,\n",
       " 'pregnant': 1.0,\n",
       " 'thyroid_surgery': 1.0,\n",
       " 'I131_treatment': 1.0,\n",
       " 'query_hypothyroid': 1.0,\n",
       " 'query_hyperthyroid': 1.0,\n",
       " 'lithium': 1.0,\n",
       " 'goitre': 1.0,\n",
       " 'tumor': 1.0,\n",
       " 'hypopituitary': 1.0,\n",
       " 'psych': 1.0,\n",
       " 'TSH': 22.78,\n",
       " 'T3': 11.41,\n",
       " 'TT4': 14.51,\n",
       " 'T4U': 11.41}"
      ]
     },
     "execution_count": 41,
     "metadata": {},
     "output_type": "execute_result"
    }
   ],
   "source": [
    "dataset.cost_data"
   ]
  },
  {
   "cell_type": "markdown",
   "metadata": {},
   "source": [
    "## Grid Search\n",
    "Just like the previous parts of the assignment, the grid search approach is used to find the absolute hyper parameters. The following function performs the grid search to report the optimal hyper parameters considering the cost"
   ]
  },
  {
   "cell_type": "code",
   "execution_count": 51,
   "metadata": {},
   "outputs": [],
   "source": [
    "def find_best_params():\n",
    "    possible_measures = (\"entropy\", \"gini\")\n",
    "    possible_prunes = list(range(3, 12))\n",
    "    possible_prunes.append(None)\n",
    "    cost_enable = [True, False]\n",
    "    cost_metrics = [\"nunez\", \"tan\"]\n",
    "    cost_weights = [0.01, 0.05 ,0.1, 0.2, 0.5, 0.75, 1, 2]\n",
    "    classes, counts = np.unique(test_data[:,-1], return_counts=True)\n",
    "    weights = np.array([counts[1] * counts[2], counts[0] * counts[2], counts[1] * counts[0]])\n",
    "    weights = weights / np.sum(weights)\n",
    "    best_acc = 0\n",
    "    best_measure = None\n",
    "    best_prune = None\n",
    "    best_cost_enabled = None\n",
    "    best_cost = None\n",
    "    best_cost_weight = None\n",
    "    for measure in possible_measures:\n",
    "        for prune in possible_prunes:\n",
    "            for cost_enabled in cost_enable:\n",
    "                if cost_enabled:\n",
    "                    for cost_metric in cost_metrics:\n",
    "                        if cost_metric == \"nunez\":\n",
    "                            for weight in cost_weights:\n",
    "                                classifier = DecisionTree(train_data, test_data, dataset.cost_data, impurity_measure=measure, prune_length=prune, use_cost=cost_enabled, cost_weight=weight, cost_measure=cost_metric)\n",
    "                                matrix = classifier.evaluate_model()\n",
    "                                acc_values = evaluate_matrix(matrix)[1]\n",
    "                                acc = np.sum(weights * acc_values)\n",
    "                                if acc > best_acc:\n",
    "                                    best_acc = acc\n",
    "                                    best_measure = measure\n",
    "                                    best_prune = prune\n",
    "                                    best_cost_enabled = cost_enabled\n",
    "                                    best_cost = cost_metric\n",
    "                                    best_cost_weight = weight\n",
    "                        else:\n",
    "                            classifier = DecisionTree(train_data, test_data, dataset.cost_data, impurity_measure=measure, prune_length=prune, use_cost=cost_enabled, cost_measure=cost_metric)\n",
    "                            matrix = classifier.evaluate_model()\n",
    "                            acc_values = evaluate_matrix(matrix)[1]\n",
    "                            acc = np.sum(weights * acc_values)\n",
    "                            if acc > best_acc:\n",
    "                                best_acc = acc\n",
    "                                best_measure = measure\n",
    "                                best_prune = prune\n",
    "                                best_cost_enabled = cost_enabled\n",
    "                                best_cost = cost_metric\n",
    "                                best_cost_weight = None\n",
    "                else:\n",
    "                    classifier = DecisionTree(train_data, test_data, dataset.cost_data, impurity_measure=measure, prune_length=prune, use_cost=cost_enabled)\n",
    "                    matrix = classifier.evaluate_model()\n",
    "                    acc_values = evaluate_matrix(matrix)[1]\n",
    "                    acc = np.sum(weights * acc_values)\n",
    "                    if acc > best_acc:\n",
    "                        best_acc = acc\n",
    "                        best_prune = prune\n",
    "                        best_measure = measure\n",
    "                        best_cost_enabled = cost_enabled\n",
    "                        best_cost = None\n",
    "                        best_cost_weight = None\n",
    "                        \n",
    "    return best_acc, best_measure, best_prune, best_cost_enabled, best_cost, best_cost_weight"
   ]
  },
  {
   "cell_type": "code",
   "execution_count": 52,
   "metadata": {},
   "outputs": [],
   "source": [
    "best_params = find_best_params()"
   ]
  },
  {
   "cell_type": "markdown",
   "metadata": {},
   "source": [
    "With the best parameters, the optimal tree considering the cost is constructed. The classifier is evaluated with the test set as follows:"
   ]
  },
  {
   "cell_type": "code",
   "execution_count": 57,
   "metadata": {},
   "outputs": [
    {
     "name": "stdout",
     "output_type": "stream",
     "text": [
      "(0.9903256522628671, 'entropy', 4, True, 'nunez', 0.75)\n"
     ]
    },
    {
     "data": {
      "image/png": "[encoded data removed]",
      "text/plain": [
       "<Figure size 576x360 with 2 Axes>"
      ]
     },
     "metadata": {},
     "output_type": "display_data"
    }
   ],
   "source": [
    "print(best_params)\n",
    "best_classifier = DecisionTree(train_data, test_data, dataset.cost_data, impurity_measure=best_params[1], prune_length=best_params[2], use_cost=best_params[3], cost_weight=best_params[5], cost_measure=best_params[4])\n",
    "matrix = best_classifier.evaluate_model()\n",
    "plot_matrix(matrix)"
   ]
  },
  {
   "cell_type": "markdown",
   "metadata": {},
   "source": [
    "The visaulization of the best classifier is given as follows"
   ]
  },
  {
   "cell_type": "code",
   "execution_count": 58,
   "metadata": {},
   "outputs": [
    {
     "data": {
      "image/svg+xml": [
       "<?xml version=\"1.0\" encoding=\"UTF-8\" standalone=\"no\"?>\n",
       "<!DOCTYPE svg PUBLIC \"-//W3C//DTD SVG 1.1//EN\"\n",
       " \"http://www.w3.org/Graphics/SVG/1.1/DTD/svg11.dtd\">\n",
       "<!-- Generated by graphviz version 2.40.1 (20161225.0304)\n",
       " -->\n",
       "<!-- Title: part2 Pages: 1 -->\n",
       "<svg width=\"593pt\" height=\"372pt\"\n",
       " viewBox=\"0.00 0.00 593.00 372.00\" xmlns=\"http://www.w3.org/2000/svg\" xmlns:xlink=\"http://www.w3.org/1999/xlink\">\n",
       "<g id=\"graph0\" class=\"graph\" transform=\"scale(1 1) rotate(0) translate(4 368)\">\n",
       "<title>part2</title>\n",
       "<polygon fill=\"#ffffff\" stroke=\"transparent\" points=\"-4,4 -4,-368 589,-368 589,4 -4,4\"/>\n",
       "<!-- node_1 -->\n",
       "<g id=\"node1\" class=\"node\">\n",
       "<title>node_1</title>\n",
       "<polygon fill=\"#00ff00\" stroke=\"#000000\" points=\"351,-364 246,-364 246,-320 351,-320 351,-364\"/>\n",
       "<text text-anchor=\"middle\" x=\"298.5\" y=\"-353.6\" font-family=\"Times,serif\" font-size=\"8.00\" fill=\"#000000\">Split rule: TSH &lt;= 0.00605</text>\n",
       "<text text-anchor=\"middle\" x=\"298.5\" y=\"-344.6\" font-family=\"Times,serif\" font-size=\"8.00\" fill=\"#000000\">Score: 0.45406</text>\n",
       "<text text-anchor=\"middle\" x=\"298.5\" y=\"-335.6\" font-family=\"Times,serif\" font-size=\"8.00\" fill=\"#000000\">Samples: 3772</text>\n",
       "<text text-anchor=\"middle\" x=\"298.5\" y=\"-326.6\" font-family=\"Times,serif\" font-size=\"8.00\" fill=\"#000000\">Class Dist: [ &#160;93 &#160;191 3488]</text>\n",
       "</g>\n",
       "<!-- node_2 -->\n",
       "<g id=\"node2\" class=\"node\">\n",
       "<title>node_2</title>\n",
       "<polygon fill=\"#ffa500\" stroke=\"#000000\" points=\"289,-284 190,-284 190,-240 289,-240 289,-284\"/>\n",
       "<text text-anchor=\"middle\" x=\"239.5\" y=\"-273.6\" font-family=\"Times,serif\" font-size=\"8.00\" fill=\"#000000\">Score: 0.0</text>\n",
       "<text text-anchor=\"middle\" x=\"239.5\" y=\"-264.6\" font-family=\"Times,serif\" font-size=\"8.00\" fill=\"#000000\">Samples: 3409</text>\n",
       "<text text-anchor=\"middle\" x=\"239.5\" y=\"-255.6\" font-family=\"Times,serif\" font-size=\"8.00\" fill=\"#000000\">Class Dist: [ &#160;&#160;0 &#160;&#160;&#160;0 3409]</text>\n",
       "<text text-anchor=\"middle\" x=\"239.5\" y=\"-246.6\" font-family=\"Times,serif\" font-size=\"8.00\" fill=\"#000000\">Label: 3</text>\n",
       "</g>\n",
       "<!-- node_1&#45;&gt;node_2 -->\n",
       "<g id=\"edge1\" class=\"edge\">\n",
       "<title>node_1&#45;&gt;node_2</title>\n",
       "<path fill=\"none\" stroke=\"#000000\" d=\"M282.0652,-319.7155C275.7999,-311.2202 268.5493,-301.3889 261.8275,-292.2746\"/>\n",
       "<polygon fill=\"#000000\" stroke=\"#000000\" points=\"264.5989,-290.1356 255.8467,-284.165 258.9653,-294.2904 264.5989,-290.1356\"/>\n",
       "</g>\n",
       "<!-- node_3 -->\n",
       "<g id=\"node3\" class=\"node\">\n",
       "<title>node_3</title>\n",
       "<polygon fill=\"#00ff00\" stroke=\"#000000\" points=\"408,-284 307,-284 307,-240 408,-240 408,-284\"/>\n",
       "<text text-anchor=\"middle\" x=\"357.5\" y=\"-273.6\" font-family=\"Times,serif\" font-size=\"8.00\" fill=\"#000000\">Split rule: x21 &lt;= 0.06472</text>\n",
       "<text text-anchor=\"middle\" x=\"357.5\" y=\"-264.6\" font-family=\"Times,serif\" font-size=\"8.00\" fill=\"#000000\">Score: 1.46959</text>\n",
       "<text text-anchor=\"middle\" x=\"357.5\" y=\"-255.6\" font-family=\"Times,serif\" font-size=\"8.00\" fill=\"#000000\">Samples: 363</text>\n",
       "<text text-anchor=\"middle\" x=\"357.5\" y=\"-246.6\" font-family=\"Times,serif\" font-size=\"8.00\" fill=\"#000000\">Class Dist: [ 93 191 &#160;79]</text>\n",
       "</g>\n",
       "<!-- node_1&#45;&gt;node_3 -->\n",
       "<g id=\"edge2\" class=\"edge\">\n",
       "<title>node_1&#45;&gt;node_3</title>\n",
       "<path fill=\"none\" stroke=\"#000000\" d=\"M314.9348,-319.7155C321.2001,-311.2202 328.4507,-301.3889 335.1725,-292.2746\"/>\n",
       "<polygon fill=\"#000000\" stroke=\"#000000\" points=\"338.0347,-294.2904 341.1533,-284.165 332.4011,-290.1356 338.0347,-294.2904\"/>\n",
       "</g>\n",
       "<!-- node_4 -->\n",
       "<g id=\"node4\" class=\"node\">\n",
       "<title>node_4</title>\n",
       "<polygon fill=\"#00ff00\" stroke=\"#000000\" points=\"331.5,-204 231.5,-204 231.5,-160 331.5,-160 331.5,-204\"/>\n",
       "<text text-anchor=\"middle\" x=\"281.5\" y=\"-193.6\" font-family=\"Times,serif\" font-size=\"8.00\" fill=\"#000000\">Split rule: T4U &lt;= 0.1425</text>\n",
       "<text text-anchor=\"middle\" x=\"281.5\" y=\"-184.6\" font-family=\"Times,serif\" font-size=\"8.00\" fill=\"#000000\">Score: 0.32985</text>\n",
       "<text text-anchor=\"middle\" x=\"281.5\" y=\"-175.6\" font-family=\"Times,serif\" font-size=\"8.00\" fill=\"#000000\">Samples: 99</text>\n",
       "<text text-anchor=\"middle\" x=\"281.5\" y=\"-166.6\" font-family=\"Times,serif\" font-size=\"8.00\" fill=\"#000000\">Class Dist: [93 &#160;0 &#160;6]</text>\n",
       "</g>\n",
       "<!-- node_3&#45;&gt;node_4 -->\n",
       "<g id=\"edge3\" class=\"edge\">\n",
       "<title>node_3&#45;&gt;node_4</title>\n",
       "<path fill=\"none\" stroke=\"#000000\" d=\"M336.3298,-239.7155C328.0121,-230.9601 318.3464,-220.7857 309.4677,-211.4397\"/>\n",
       "<polygon fill=\"#000000\" stroke=\"#000000\" points=\"311.9817,-209.0043 302.5567,-204.165 306.9067,-213.8256 311.9817,-209.0043\"/>\n",
       "</g>\n",
       "<!-- node_11 -->\n",
       "<g id=\"node11\" class=\"node\">\n",
       "<title>node_11</title>\n",
       "<polygon fill=\"#00ff00\" stroke=\"#000000\" points=\"492.5,-204 376.5,-204 376.5,-160 492.5,-160 492.5,-204\"/>\n",
       "<text text-anchor=\"middle\" x=\"434.5\" y=\"-193.6\" font-family=\"Times,serif\" font-size=\"8.00\" fill=\"#000000\">Split rule: on_thyroxine &lt;= 0.0</text>\n",
       "<text text-anchor=\"middle\" x=\"434.5\" y=\"-184.6\" font-family=\"Times,serif\" font-size=\"8.00\" fill=\"#000000\">Score: 0.85066</text>\n",
       "<text text-anchor=\"middle\" x=\"434.5\" y=\"-175.6\" font-family=\"Times,serif\" font-size=\"8.00\" fill=\"#000000\">Samples: 264</text>\n",
       "<text text-anchor=\"middle\" x=\"434.5\" y=\"-166.6\" font-family=\"Times,serif\" font-size=\"8.00\" fill=\"#000000\">Class Dist: [ &#160;0 191 &#160;73]</text>\n",
       "</g>\n",
       "<!-- node_3&#45;&gt;node_11 -->\n",
       "<g id=\"edge10\" class=\"edge\">\n",
       "<title>node_3&#45;&gt;node_11</title>\n",
       "<path fill=\"none\" stroke=\"#000000\" d=\"M378.9488,-239.7155C387.3759,-230.9601 397.1688,-220.7857 406.1643,-211.4397\"/>\n",
       "<polygon fill=\"#000000\" stroke=\"#000000\" points=\"408.7532,-213.797 413.1662,-204.165 403.7098,-208.9427 408.7532,-213.797\"/>\n",
       "</g>\n",
       "<!-- node_5 -->\n",
       "<g id=\"node5\" class=\"node\">\n",
       "<title>node_5</title>\n",
       "<polygon fill=\"#00ff00\" stroke=\"#000000\" points=\"192,-124 93,-124 93,-80 192,-80 192,-124\"/>\n",
       "<text text-anchor=\"middle\" x=\"142.5\" y=\"-113.6\" font-family=\"Times,serif\" font-size=\"8.00\" fill=\"#000000\">Split rule: TT4 &lt;= 0.0615</text>\n",
       "<text text-anchor=\"middle\" x=\"142.5\" y=\"-104.6\" font-family=\"Times,serif\" font-size=\"8.00\" fill=\"#000000\">Score: 0.24988</text>\n",
       "<text text-anchor=\"middle\" x=\"142.5\" y=\"-95.6\" font-family=\"Times,serif\" font-size=\"8.00\" fill=\"#000000\">Samples: 96</text>\n",
       "<text text-anchor=\"middle\" x=\"142.5\" y=\"-86.6\" font-family=\"Times,serif\" font-size=\"8.00\" fill=\"#000000\">Class Dist: [92 &#160;0 &#160;4]</text>\n",
       "</g>\n",
       "<!-- node_4&#45;&gt;node_5 -->\n",
       "<g id=\"edge4\" class=\"edge\">\n",
       "<title>node_4&#45;&gt;node_5</title>\n",
       "<path fill=\"none\" stroke=\"#000000\" d=\"M243.1497,-159.9279C226.5897,-150.397 207.0548,-139.1538 189.6226,-129.1209\"/>\n",
       "<polygon fill=\"#000000\" stroke=\"#000000\" points=\"191.1381,-125.9549 180.7252,-124.0001 187.6463,-132.0218 191.1381,-125.9549\"/>\n",
       "</g>\n",
       "<!-- node_8 -->\n",
       "<g id=\"node8\" class=\"node\">\n",
       "<title>node_8</title>\n",
       "<polygon fill=\"#00ff00\" stroke=\"#000000\" points=\"325.5,-124 237.5,-124 237.5,-80 325.5,-80 325.5,-124\"/>\n",
       "<text text-anchor=\"middle\" x=\"281.5\" y=\"-113.6\" font-family=\"Times,serif\" font-size=\"8.00\" fill=\"#000000\">Split rule: age &lt;= 0.43</text>\n",
       "<text text-anchor=\"middle\" x=\"281.5\" y=\"-104.6\" font-family=\"Times,serif\" font-size=\"8.00\" fill=\"#000000\">Score: 0.9183</text>\n",
       "<text text-anchor=\"middle\" x=\"281.5\" y=\"-95.6\" font-family=\"Times,serif\" font-size=\"8.00\" fill=\"#000000\">Samples: 3</text>\n",
       "<text text-anchor=\"middle\" x=\"281.5\" y=\"-86.6\" font-family=\"Times,serif\" font-size=\"8.00\" fill=\"#000000\">Class Dist: [1 0 2]</text>\n",
       "</g>\n",
       "<!-- node_4&#45;&gt;node_8 -->\n",
       "<g id=\"edge7\" class=\"edge\">\n",
       "<title>node_4&#45;&gt;node_8</title>\n",
       "<path fill=\"none\" stroke=\"#000000\" d=\"M281.5,-159.7155C281.5,-151.827 281.5,-142.7865 281.5,-134.2379\"/>\n",
       "<polygon fill=\"#000000\" stroke=\"#000000\" points=\"285.0001,-134.1649 281.5,-124.165 278.0001,-134.165 285.0001,-134.1649\"/>\n",
       "</g>\n",
       "<!-- node_6 -->\n",
       "<g id=\"node6\" class=\"node\">\n",
       "<title>node_6</title>\n",
       "<polygon fill=\"#ffa500\" stroke=\"#000000\" points=\"83,-44 0,-44 0,0 83,0 83,-44\"/>\n",
       "<text text-anchor=\"middle\" x=\"41.5\" y=\"-33.6\" font-family=\"Times,serif\" font-size=\"8.00\" fill=\"#000000\">Score: 0.09597</text>\n",
       "<text text-anchor=\"middle\" x=\"41.5\" y=\"-24.6\" font-family=\"Times,serif\" font-size=\"8.00\" fill=\"#000000\">Samples: 81</text>\n",
       "<text text-anchor=\"middle\" x=\"41.5\" y=\"-15.6\" font-family=\"Times,serif\" font-size=\"8.00\" fill=\"#000000\">Class Dist: [80 &#160;0 &#160;1]</text>\n",
       "<text text-anchor=\"middle\" x=\"41.5\" y=\"-6.6\" font-family=\"Times,serif\" font-size=\"8.00\" fill=\"#000000\">Label: 1</text>\n",
       "</g>\n",
       "<!-- node_5&#45;&gt;node_6 -->\n",
       "<g id=\"edge5\" class=\"edge\">\n",
       "<title>node_5&#45;&gt;node_6</title>\n",
       "<path fill=\"none\" stroke=\"#000000\" d=\"M114.6339,-79.9279C103.0427,-70.7467 89.4456,-59.9767 77.1406,-50.2302\"/>\n",
       "<polygon fill=\"#000000\" stroke=\"#000000\" points=\"79.2872,-47.4655 69.2751,-44.0001 74.9409,-52.9528 79.2872,-47.4655\"/>\n",
       "</g>\n",
       "<!-- node_7 -->\n",
       "<g id=\"node7\" class=\"node\">\n",
       "<title>node_7</title>\n",
       "<polygon fill=\"#ffa500\" stroke=\"#000000\" points=\"184,-44 101,-44 101,0 184,0 184,-44\"/>\n",
       "<text text-anchor=\"middle\" x=\"142.5\" y=\"-33.6\" font-family=\"Times,serif\" font-size=\"8.00\" fill=\"#000000\">Score: 0.72193</text>\n",
       "<text text-anchor=\"middle\" x=\"142.5\" y=\"-24.6\" font-family=\"Times,serif\" font-size=\"8.00\" fill=\"#000000\">Samples: 15</text>\n",
       "<text text-anchor=\"middle\" x=\"142.5\" y=\"-15.6\" font-family=\"Times,serif\" font-size=\"8.00\" fill=\"#000000\">Class Dist: [12 &#160;0 &#160;3]</text>\n",
       "<text text-anchor=\"middle\" x=\"142.5\" y=\"-6.6\" font-family=\"Times,serif\" font-size=\"8.00\" fill=\"#000000\">Label: 1</text>\n",
       "</g>\n",
       "<!-- node_5&#45;&gt;node_7 -->\n",
       "<g id=\"edge6\" class=\"edge\">\n",
       "<title>node_5&#45;&gt;node_7</title>\n",
       "<path fill=\"none\" stroke=\"#000000\" d=\"M142.5,-79.7155C142.5,-71.827 142.5,-62.7865 142.5,-54.2379\"/>\n",
       "<polygon fill=\"#000000\" stroke=\"#000000\" points=\"146.0001,-54.1649 142.5,-44.165 139.0001,-54.165 146.0001,-54.1649\"/>\n",
       "</g>\n",
       "<!-- node_9 -->\n",
       "<g id=\"node9\" class=\"node\">\n",
       "<title>node_9</title>\n",
       "<polygon fill=\"#ffa500\" stroke=\"#000000\" points=\"277,-44 202,-44 202,0 277,0 277,-44\"/>\n",
       "<text text-anchor=\"middle\" x=\"239.5\" y=\"-33.6\" font-family=\"Times,serif\" font-size=\"8.00\" fill=\"#000000\">Score: 0.0</text>\n",
       "<text text-anchor=\"middle\" x=\"239.5\" y=\"-24.6\" font-family=\"Times,serif\" font-size=\"8.00\" fill=\"#000000\">Samples: 2</text>\n",
       "<text text-anchor=\"middle\" x=\"239.5\" y=\"-15.6\" font-family=\"Times,serif\" font-size=\"8.00\" fill=\"#000000\">Class Dist: [0 0 2]</text>\n",
       "<text text-anchor=\"middle\" x=\"239.5\" y=\"-6.6\" font-family=\"Times,serif\" font-size=\"8.00\" fill=\"#000000\">Label: 3</text>\n",
       "</g>\n",
       "<!-- node_8&#45;&gt;node_9 -->\n",
       "<g id=\"edge8\" class=\"edge\">\n",
       "<title>node_8&#45;&gt;node_9</title>\n",
       "<path fill=\"none\" stroke=\"#000000\" d=\"M269.8007,-79.7155C265.4771,-71.4803 260.4945,-61.9895 255.8346,-53.1136\"/>\n",
       "<polygon fill=\"#000000\" stroke=\"#000000\" points=\"258.8839,-51.392 251.1366,-44.165 252.6861,-54.6459 258.8839,-51.392\"/>\n",
       "</g>\n",
       "<!-- node_10 -->\n",
       "<g id=\"node10\" class=\"node\">\n",
       "<title>node_10</title>\n",
       "<polygon fill=\"#ffa500\" stroke=\"#000000\" points=\"370,-44 295,-44 295,0 370,0 370,-44\"/>\n",
       "<text text-anchor=\"middle\" x=\"332.5\" y=\"-33.6\" font-family=\"Times,serif\" font-size=\"8.00\" fill=\"#000000\">Score: 0.0</text>\n",
       "<text text-anchor=\"middle\" x=\"332.5\" y=\"-24.6\" font-family=\"Times,serif\" font-size=\"8.00\" fill=\"#000000\">Samples: 1</text>\n",
       "<text text-anchor=\"middle\" x=\"332.5\" y=\"-15.6\" font-family=\"Times,serif\" font-size=\"8.00\" fill=\"#000000\">Class Dist: [1 0 0]</text>\n",
       "<text text-anchor=\"middle\" x=\"332.5\" y=\"-6.6\" font-family=\"Times,serif\" font-size=\"8.00\" fill=\"#000000\">Label: 1</text>\n",
       "</g>\n",
       "<!-- node_8&#45;&gt;node_10 -->\n",
       "<g id=\"edge9\" class=\"edge\">\n",
       "<title>node_8&#45;&gt;node_10</title>\n",
       "<path fill=\"none\" stroke=\"#000000\" d=\"M295.7063,-79.7155C301.0116,-71.3936 307.1341,-61.7896 312.8436,-52.8335\"/>\n",
       "<polygon fill=\"#000000\" stroke=\"#000000\" points=\"315.9455,-54.4787 318.3698,-44.165 310.0429,-50.7158 315.9455,-54.4787\"/>\n",
       "</g>\n",
       "<!-- node_12 -->\n",
       "<g id=\"node12\" class=\"node\">\n",
       "<title>node_12</title>\n",
       "<polygon fill=\"#00ff00\" stroke=\"#000000\" points=\"484,-124 385,-124 385,-80 484,-80 484,-124\"/>\n",
       "<text text-anchor=\"middle\" x=\"434.5\" y=\"-113.6\" font-family=\"Times,serif\" font-size=\"8.00\" fill=\"#000000\">Split rule: TT4 &lt;= 0.1505</text>\n",
       "<text text-anchor=\"middle\" x=\"434.5\" y=\"-104.6\" font-family=\"Times,serif\" font-size=\"8.00\" fill=\"#000000\">Score: 0.45225</text>\n",
       "<text text-anchor=\"middle\" x=\"434.5\" y=\"-95.6\" font-family=\"Times,serif\" font-size=\"8.00\" fill=\"#000000\">Samples: 211</text>\n",
       "<text text-anchor=\"middle\" x=\"434.5\" y=\"-86.6\" font-family=\"Times,serif\" font-size=\"8.00\" fill=\"#000000\">Class Dist: [ &#160;0 191 &#160;20]</text>\n",
       "</g>\n",
       "<!-- node_11&#45;&gt;node_12 -->\n",
       "<g id=\"edge11\" class=\"edge\">\n",
       "<title>node_11&#45;&gt;node_12</title>\n",
       "<path fill=\"none\" stroke=\"#000000\" d=\"M434.5,-159.7155C434.5,-151.827 434.5,-142.7865 434.5,-134.2379\"/>\n",
       "<polygon fill=\"#000000\" stroke=\"#000000\" points=\"438.0001,-134.1649 434.5,-124.165 431.0001,-134.165 438.0001,-134.1649\"/>\n",
       "</g>\n",
       "<!-- node_15 -->\n",
       "<g id=\"node15\" class=\"node\">\n",
       "<title>node_15</title>\n",
       "<polygon fill=\"#ffa500\" stroke=\"#000000\" points=\"585,-124 502,-124 502,-80 585,-80 585,-124\"/>\n",
       "<text text-anchor=\"middle\" x=\"543.5\" y=\"-113.6\" font-family=\"Times,serif\" font-size=\"8.00\" fill=\"#000000\">Score: 0.0</text>\n",
       "<text text-anchor=\"middle\" x=\"543.5\" y=\"-104.6\" font-family=\"Times,serif\" font-size=\"8.00\" fill=\"#000000\">Samples: 53</text>\n",
       "<text text-anchor=\"middle\" x=\"543.5\" y=\"-95.6\" font-family=\"Times,serif\" font-size=\"8.00\" fill=\"#000000\">Class Dist: [ 0 &#160;0 53]</text>\n",
       "<text text-anchor=\"middle\" x=\"543.5\" y=\"-86.6\" font-family=\"Times,serif\" font-size=\"8.00\" fill=\"#000000\">Label: 3</text>\n",
       "</g>\n",
       "<!-- node_11&#45;&gt;node_15 -->\n",
       "<g id=\"edge14\" class=\"edge\">\n",
       "<title>node_11&#45;&gt;node_15</title>\n",
       "<path fill=\"none\" stroke=\"#000000\" d=\"M464.5733,-159.9279C477.2017,-150.6593 492.0364,-139.7714 505.4154,-129.952\"/>\n",
       "<polygon fill=\"#000000\" stroke=\"#000000\" points=\"507.5341,-132.7386 513.5249,-124.0001 503.3923,-127.0954 507.5341,-132.7386\"/>\n",
       "</g>\n",
       "<!-- node_13 -->\n",
       "<g id=\"node13\" class=\"node\">\n",
       "<title>node_13</title>\n",
       "<polygon fill=\"#ffa500\" stroke=\"#000000\" points=\"481,-44 388,-44 388,0 481,0 481,-44\"/>\n",
       "<text text-anchor=\"middle\" x=\"434.5\" y=\"-33.6\" font-family=\"Times,serif\" font-size=\"8.00\" fill=\"#000000\">Score: 0.28534</text>\n",
       "<text text-anchor=\"middle\" x=\"434.5\" y=\"-24.6\" font-family=\"Times,serif\" font-size=\"8.00\" fill=\"#000000\">Samples: 201</text>\n",
       "<text text-anchor=\"middle\" x=\"434.5\" y=\"-15.6\" font-family=\"Times,serif\" font-size=\"8.00\" fill=\"#000000\">Class Dist: [ &#160;0 191 &#160;10]</text>\n",
       "<text text-anchor=\"middle\" x=\"434.5\" y=\"-6.6\" font-family=\"Times,serif\" font-size=\"8.00\" fill=\"#000000\">Label: 2</text>\n",
       "</g>\n",
       "<!-- node_12&#45;&gt;node_13 -->\n",
       "<g id=\"edge12\" class=\"edge\">\n",
       "<title>node_12&#45;&gt;node_13</title>\n",
       "<path fill=\"none\" stroke=\"#000000\" d=\"M434.5,-79.7155C434.5,-71.827 434.5,-62.7865 434.5,-54.2379\"/>\n",
       "<polygon fill=\"#000000\" stroke=\"#000000\" points=\"438.0001,-54.1649 434.5,-44.165 431.0001,-54.165 438.0001,-54.1649\"/>\n",
       "</g>\n",
       "<!-- node_14 -->\n",
       "<g id=\"node14\" class=\"node\">\n",
       "<title>node_14</title>\n",
       "<polygon fill=\"#ffa500\" stroke=\"#000000\" points=\"582,-44 499,-44 499,0 582,0 582,-44\"/>\n",
       "<text text-anchor=\"middle\" x=\"540.5\" y=\"-33.6\" font-family=\"Times,serif\" font-size=\"8.00\" fill=\"#000000\">Score: 0.0</text>\n",
       "<text text-anchor=\"middle\" x=\"540.5\" y=\"-24.6\" font-family=\"Times,serif\" font-size=\"8.00\" fill=\"#000000\">Samples: 10</text>\n",
       "<text text-anchor=\"middle\" x=\"540.5\" y=\"-15.6\" font-family=\"Times,serif\" font-size=\"8.00\" fill=\"#000000\">Class Dist: [ 0 &#160;0 10]</text>\n",
       "<text text-anchor=\"middle\" x=\"540.5\" y=\"-6.6\" font-family=\"Times,serif\" font-size=\"8.00\" fill=\"#000000\">Label: 3</text>\n",
       "</g>\n",
       "<!-- node_12&#45;&gt;node_14 -->\n",
       "<g id=\"edge13\" class=\"edge\">\n",
       "<title>node_12&#45;&gt;node_14</title>\n",
       "<path fill=\"none\" stroke=\"#000000\" d=\"M463.7456,-79.9279C475.9106,-70.7467 490.1808,-59.9767 503.095,-50.2302\"/>\n",
       "<polygon fill=\"#000000\" stroke=\"#000000\" points=\"505.4764,-52.8179 511.3499,-44.0001 501.2595,-47.2305 505.4764,-52.8179\"/>\n",
       "</g>\n",
       "</g>\n",
       "</svg>\n"
      ],
      "text/plain": [
       "<graphviz.dot.Digraph at 0x7fcbe7514d10>"
      ]
     },
     "execution_count": 58,
     "metadata": {},
     "output_type": "execute_result"
    }
   ],
   "source": [
    "plot_tree(best_classifier)"
   ]
  },
  {
   "cell_type": "markdown",
   "metadata": {},
   "source": [
    "Finally the test set is evaluated to find the accuracy values. The results are as follows:"
   ]
  },
  {
   "cell_type": "code",
   "execution_count": 73,
   "metadata": {},
   "outputs": [
    {
     "name": "stdout",
     "output_type": "stream",
     "text": [
      "Overall Accuracy: 0.9921236872812136\n",
      "Class 1 Accuracy: 0.9863013698630136\n",
      "Class 2 Accuracy: 1.0\n",
      "Class 3 Accuracy: 0.9918187539332913\n"
     ]
    }
   ],
   "source": [
    "acc_values = evaluate_matrix(matrix)\n",
    "print(\"Overall Accuracy: {}\".format(acc_values[0]))\n",
    "print(\"Class 1 Accuracy: {}\".format(acc_values[1][0]))\n",
    "print(\"Class 2 Accuracy: {}\".format(acc_values[1][1]))\n",
    "print(\"Class 3 Accuracy: {}\".format(acc_values[1][2]))"
   ]
  },
  {
   "cell_type": "markdown",
   "metadata": {},
   "source": [
    "The same analysis is performed for the training set. The dconfusion matrix is as follows:"
   ]
  },
  {
   "cell_type": "code",
   "execution_count": 60,
   "metadata": {},
   "outputs": [
    {
     "data": {
      "image/png": "[encoded data removed]",
      "text/plain": [
       "<Figure size 576x360 with 2 Axes>"
      ]
     },
     "metadata": {},
     "output_type": "display_data"
    }
   ],
   "source": [
    "def evaluate_train_set(train_set, classifier):\n",
    "    confusion_matrix = np.zeros((3,3), dtype=int)\n",
    "    for sample_idx in range(train_set.shape[0]):\n",
    "        sample = train_set[sample_idx,:]\n",
    "        label = classifier.test_sample(sample)\n",
    "        confusion_matrix[int(sample[-1]) - 1, label - 1] += 1\n",
    "    return confusion_matrix\n",
    "train_matrix = evaluate_train_set(train_data, best_classifier)\n",
    "plot_matrix(train_matrix)"
   ]
  },
  {
   "cell_type": "markdown",
   "metadata": {},
   "source": [
    "For this analysis the class based accuracies are as follows:"
   ]
  },
  {
   "cell_type": "code",
   "execution_count": 74,
   "metadata": {},
   "outputs": [
    {
     "name": "stdout",
     "output_type": "stream",
     "text": [
      "Overall Accuracy: 0.996288441145281\n",
      "Class 1 Accuracy: 1.0\n",
      "Class 2 Accuracy: 1.0\n",
      "Class 3 Accuracy: 0.9959862385321101\n"
     ]
    }
   ],
   "source": [
    "acc_values = evaluate_matrix(train_matrix)\n",
    "print(\"Overall Accuracy: {}\".format(acc_values[0]))\n",
    "print(\"Class 1 Accuracy: {}\".format(acc_values[1][0]))\n",
    "print(\"Class 2 Accuracy: {}\".format(acc_values[1][1]))\n",
    "print(\"Class 3 Accuracy: {}\".format(acc_values[1][2]))"
   ]
  },
  {
   "cell_type": "markdown",
   "metadata": {},
   "source": [
    "## Average Prediction Cost\n",
    "As the fnal part of the analysis, the average prediction cost is calculated. This cost is computed by traversing the tree for every prediction. The implementation of this test is given as follows:"
   ]
  },
  {
   "cell_type": "code",
   "execution_count": 72,
   "metadata": {},
   "outputs": [
    {
     "name": "stdout",
     "output_type": "stream",
     "text": [
      "Average prediction cost for test set: 25.5901\n"
     ]
    }
   ],
   "source": [
    "def get_prediction_cost(data_sample, classifier, dataset):\n",
    "    node = classifier.root\n",
    "    used_features = []\n",
    "    features = list(dataset.cost_data.keys())\n",
    "    total_cost = 0\n",
    "    while node.left_child != None or node.right_child != None:\n",
    "        cost = 0\n",
    "        if node.feature_idx not in used_features:\n",
    "            if node.feature_idx == 20:\n",
    "                cost = 1.0\n",
    "                if 19 not in used_features:\n",
    "                    cost += dataset.cost_data[features[19]]\n",
    "                    used_features.append(19)\n",
    "                if 18 not in used_features:\n",
    "                    cost += dataset.cost_data[features[18]]\n",
    "                    used_features.append(18)\n",
    "            else:\n",
    "                cost = dataset.cost_data[features[node.feature_idx]]\n",
    "                used_features.append(node.feature_idx)\n",
    "        total_cost += cost\n",
    "        if data_sample[node.feature_idx] <= node.threshold:\n",
    "            node = node.left_child\n",
    "        else:\n",
    "            node = node.right_child\n",
    "    return total_cost\n",
    "\n",
    "def evaluate_avg_cost(test_samples):\n",
    "    costs = []\n",
    "    for sample_idx in range(test_samples.shape[0]):\n",
    "        costs.append(get_prediction_cost(test_samples[sample_idx, :], best_classifier, dataset))\n",
    "    return np.sum(np.array(costs)) / test_samples.shape[0]\n",
    "print(\"Average prediction cost for test set: {}\".format(round(evaluate_avg_cost(test_data), 4)))"
   ]
  }
 ],
 "metadata": {
  "kernelspec": {
   "display_name": "Python 3",
   "language": "python",
   "name": "python3"
  },
  "language_info": {
   "codemirror_mode": {
    "name": "ipython",
    "version": 3
   },
   "file_extension": ".py",
   "mimetype": "text/x-python",
   "name": "python",
   "nbconvert_exporter": "python",
   "pygments_lexer": "ipython3",
   "version": "3.7.6"
  }
 },
 "nbformat": 4,
 "nbformat_minor": 4
}
